{
  "nbformat": 4,
  "nbformat_minor": 0,
  "metadata": {
    "colab": {
      "name": "Final_Booking_ADR_prediction.ipynb",
      "provenance": [],
      "collapsed_sections": [
        "T6CqbaPaga2I",
        "2wEXMokrMjdP",
        "7vbQrKQ3H1vo",
        "83qYjUdAUU7n"
      ],
      "toc_visible": true
    },
    "kernelspec": {
      "name": "python3",
      "display_name": "Python 3"
    },
    "language_info": {
      "name": "python"
    }
  },
  "cells": [
    {
      "cell_type": "markdown",
      "source": [
        "#About the data"
      ],
      "metadata": {
        "id": "-CokXSWiJ5Z3"
      }
    },
    {
      "cell_type": "markdown",
      "source": [
        "Abstract\n",
        "\n",
        "This data article describes two datasets with hotel demand data. One of the hotels (H1) is a resort hotel and the other is a city hotel (H2). Both datasets share the same structure, with 31 variables describing the 40,060 observations of H1 and 79,330 observations of H2. Each observation represents a hotel booking. Both datasets comprehend bookings due to arrive between the 1st of July of 2015 and the 31st of August 2017, including bookings that effectively arrived and bookings that were canceled. Since this is hotel real data, all data elements pertaining hotel or costumer identification were deleted. Due to the scarcity of real business data for scientific and educational purposes, these datasets can have an important role for research and education in revenue management, machine learning, or data mining, as well as in other fields."
      ],
      "metadata": {
        "id": "nPf0tN6LJ8A8"
      }
    },
    {
      "cell_type": "markdown",
      "source": [
        "The data set is from kaggle: https://www.kaggle.com/jessemostipak/hotel-booking-demand\n",
        "\n",
        "In addtion you can read the metadata to get more understaning of the data itself: https://www.sciencedirect.com/science/article/pii/S2352340918315191\n"
      ],
      "metadata": {
        "id": "io72IhnDiN3x"
      }
    },
    {
      "cell_type": "markdown",
      "source": [
        "#Import lib & load Data\n"
      ],
      "metadata": {
        "id": "dwp7wbBq2RjD"
      }
    },
    {
      "cell_type": "code",
      "source": [
        "from google.colab import drive\n",
        "drive.mount('/content/drive')"
      ],
      "metadata": {
        "id": "5v3LDzoAcTzq",
        "outputId": "c6ba2664-2e04-4f18-e9f6-729dd9938f8b",
        "colab": {
          "base_uri": "https://localhost:8080/"
        }
      },
      "execution_count": 283,
      "outputs": [
        {
          "output_type": "stream",
          "name": "stdout",
          "text": [
            "Drive already mounted at /content/drive; to attempt to forcibly remount, call drive.mount(\"/content/drive\", force_remount=True).\n"
          ]
        }
      ]
    },
    {
      "cell_type": "code",
      "execution_count": 284,
      "metadata": {
        "id": "aShkI0coIoW4"
      },
      "outputs": [],
      "source": [
        "import pandas as pd\n",
        "import datetime \n",
        "import numpy as np\n",
        "import matplotlib.pyplot as plt\n",
        "import seaborn as sns\n",
        "from sklearn.linear_model import LinearRegression\n",
        "from sklearn.tree import DecisionTreeRegressor\n",
        "from sklearn.neighbors import KNeighborsRegressor\n",
        "from sklearn.preprocessing import MaxAbsScaler, MinMaxScaler, StandardScaler # לבדוק אם שומש\n",
        "\n",
        "#visualize tree\n",
        "from sklearn.tree import plot_tree\n",
        "\n",
        "# For validation\n",
        "from sklearn.model_selection import train_test_split as split\n",
        "from sklearn.metrics import mean_squared_error as mse\n",
        "from sklearn.metrics import mean_squared_log_error as msle\n",
        "\n",
        "#for checking if a date is a holiday\n",
        "from pandas.tseries.holiday import USFederalHolidayCalendar as calendar\n",
        "\n",
        "import warnings\n",
        "warnings.filterwarnings('ignore')"
      ]
    },
    {
      "cell_type": "code",
      "source": [
        "### להסביר\n",
        "def visualize_tree(model, md=5, fs=(12, 8)):\n",
        "    plt.figure(figsize=fs)\n",
        "    plot_tree(model,\n",
        "            max_depth=md,\n",
        "            feature_names=model.feature_names_in_,\n",
        "            label='all',\n",
        "            filled=True,\n",
        "            rounded=True, \n",
        "            fontsize=8);"
      ],
      "metadata": {
        "id": "ukuyTtA6KGBi"
      },
      "execution_count": 285,
      "outputs": []
    },
    {
      "cell_type": "code",
      "source": [
        "path = '/content/drive/MyDrive/Colab Notebooks/hotel_bookings.csv' \n",
        "df = pd.read_csv(path)\n"
      ],
      "metadata": {
        "id": "2odyOS_cPfWX"
      },
      "execution_count": 286,
      "outputs": []
    },
    {
      "cell_type": "markdown",
      "source": [
        "#Understading the data"
      ],
      "metadata": {
        "id": "po-JNghdIH-T"
      }
    },
    {
      "cell_type": "markdown",
      "source": [
        "##columns dictionary: (used columns only)"
      ],
      "metadata": {
        "id": "VhRUBRXqKX4K"
      }
    },
    {
      "cell_type": "markdown",
      "source": [
        "1. ***ADR:*** Average Daily Rate - Calculated by dividing the sum of all lodging transactions by the total number of staying nights\n",
        "\n",
        "2. ***Adults:*** Number of adults\t\n",
        "\n",
        "3. ***Babies:*** Number of babies\t\n",
        "\n",
        "4. ***Children:*** Number of children\t\n",
        "\n",
        "5. ***Agent:*** ID of the travel agency that made the bookinga\t\n",
        "\n",
        "6. ***Company:*** ID of the company/entity that made the booking or responsible for paying the booking. ID is presented instead of designation for anonymity reasons\t\n",
        "\n",
        "7. ***ArrivalDateMonth:*** Month of arrival date with 12 categories: “January” to “December”\t\n",
        "\n",
        "8. ***BookingChanges:*** Number of changes/amendments made to the booking from the moment the booking was entered on the PMS until the moment of check-in or cancellation\t\n",
        "\n",
        "9. ***IsRepeatedGuest:*** Value indicating if the booking name was from a repeated guest (1) or not (0)\t\n",
        "\n",
        "10. ***LeadTime:*** Number of days that elapsed between the entering date of the booking into the PMS and the arrival date\t\n",
        "\n",
        "11. ***Meal:*** Type of meal booked. Categories are presented in standard hospitality meal packages:\t\n",
        "\n",
        "* Undefined/SC – no meal package;\n",
        "\n",
        "* BB – Bed & Breakfast;\n",
        "\n",
        "* HB – Half board (breakfast and one other meal – usually dinner);\n",
        "\n",
        "* FB – Full board (breakfast, lunch and dinner)\n",
        "\n",
        "12. ***PreviousCancellations:*** Number of previous bookings that were cancelled by the customer prior to the current booking\t\n",
        "\n",
        "13. ***RequiredCardParkingSpaceS:*** Number of car parking spaces required by the customer\t\n",
        "\n",
        "14. ***ReservedRoomType:*** Code of room type reserved. Code is presented instead of designation for anonymity reasons\t\n",
        "\n",
        "15. ***TotalOfSpecialRequests:*** Number of special requests made by the customer (e.g. twin bed or high floor)\t\n",
        "\n"
      ],
      "metadata": {
        "id": "msPLNQU6Kl6W"
      }
    },
    {
      "cell_type": "code",
      "source": [
        "df.shape"
      ],
      "metadata": {
        "colab": {
          "base_uri": "https://localhost:8080/"
        },
        "id": "WDLOGM52IZp8",
        "outputId": "6ea43db6-3aa6-478a-9c2f-b47be7db11d8"
      },
      "execution_count": 287,
      "outputs": [
        {
          "output_type": "execute_result",
          "data": {
            "text/plain": [
              "(119390, 32)"
            ]
          },
          "metadata": {},
          "execution_count": 287
        }
      ]
    },
    {
      "cell_type": "code",
      "source": [
        "df.sample(5)"
      ],
      "metadata": {
        "colab": {
          "base_uri": "https://localhost:8080/",
          "height": 357
        },
        "id": "UQJfEqF1IPLf",
        "outputId": "f2e7adc5-7485-4c57-8146-b0e487d98a17"
      },
      "execution_count": 288,
      "outputs": [
        {
          "output_type": "execute_result",
          "data": {
            "text/html": [
              "\n",
              "  <div id=\"df-35d6eded-af0d-493d-9d9a-3c2747891b77\">\n",
              "    <div class=\"colab-df-container\">\n",
              "      <div>\n",
              "<style scoped>\n",
              "    .dataframe tbody tr th:only-of-type {\n",
              "        vertical-align: middle;\n",
              "    }\n",
              "\n",
              "    .dataframe tbody tr th {\n",
              "        vertical-align: top;\n",
              "    }\n",
              "\n",
              "    .dataframe thead th {\n",
              "        text-align: right;\n",
              "    }\n",
              "</style>\n",
              "<table border=\"1\" class=\"dataframe\">\n",
              "  <thead>\n",
              "    <tr style=\"text-align: right;\">\n",
              "      <th></th>\n",
              "      <th>hotel</th>\n",
              "      <th>is_canceled</th>\n",
              "      <th>lead_time</th>\n",
              "      <th>arrival_date_year</th>\n",
              "      <th>arrival_date_month</th>\n",
              "      <th>arrival_date_week_number</th>\n",
              "      <th>arrival_date_day_of_month</th>\n",
              "      <th>stays_in_weekend_nights</th>\n",
              "      <th>stays_in_week_nights</th>\n",
              "      <th>adults</th>\n",
              "      <th>children</th>\n",
              "      <th>babies</th>\n",
              "      <th>meal</th>\n",
              "      <th>country</th>\n",
              "      <th>market_segment</th>\n",
              "      <th>distribution_channel</th>\n",
              "      <th>is_repeated_guest</th>\n",
              "      <th>previous_cancellations</th>\n",
              "      <th>previous_bookings_not_canceled</th>\n",
              "      <th>reserved_room_type</th>\n",
              "      <th>assigned_room_type</th>\n",
              "      <th>booking_changes</th>\n",
              "      <th>deposit_type</th>\n",
              "      <th>agent</th>\n",
              "      <th>company</th>\n",
              "      <th>days_in_waiting_list</th>\n",
              "      <th>customer_type</th>\n",
              "      <th>adr</th>\n",
              "      <th>required_car_parking_spaces</th>\n",
              "      <th>total_of_special_requests</th>\n",
              "      <th>reservation_status</th>\n",
              "      <th>reservation_status_date</th>\n",
              "    </tr>\n",
              "  </thead>\n",
              "  <tbody>\n",
              "    <tr>\n",
              "      <th>2707</th>\n",
              "      <td>Resort Hotel</td>\n",
              "      <td>0</td>\n",
              "      <td>0</td>\n",
              "      <td>2015</td>\n",
              "      <td>October</td>\n",
              "      <td>44</td>\n",
              "      <td>27</td>\n",
              "      <td>0</td>\n",
              "      <td>1</td>\n",
              "      <td>1</td>\n",
              "      <td>0.0</td>\n",
              "      <td>0</td>\n",
              "      <td>BB</td>\n",
              "      <td>PRT</td>\n",
              "      <td>Direct</td>\n",
              "      <td>Direct</td>\n",
              "      <td>0</td>\n",
              "      <td>0</td>\n",
              "      <td>0</td>\n",
              "      <td>D</td>\n",
              "      <td>D</td>\n",
              "      <td>0</td>\n",
              "      <td>No Deposit</td>\n",
              "      <td>NaN</td>\n",
              "      <td>NaN</td>\n",
              "      <td>0</td>\n",
              "      <td>Transient</td>\n",
              "      <td>45.00</td>\n",
              "      <td>0</td>\n",
              "      <td>0</td>\n",
              "      <td>Check-Out</td>\n",
              "      <td>2015-10-28</td>\n",
              "    </tr>\n",
              "    <tr>\n",
              "      <th>98669</th>\n",
              "      <td>City Hotel</td>\n",
              "      <td>0</td>\n",
              "      <td>193</td>\n",
              "      <td>2016</td>\n",
              "      <td>September</td>\n",
              "      <td>40</td>\n",
              "      <td>30</td>\n",
              "      <td>1</td>\n",
              "      <td>2</td>\n",
              "      <td>2</td>\n",
              "      <td>0.0</td>\n",
              "      <td>0</td>\n",
              "      <td>BB</td>\n",
              "      <td>DEU</td>\n",
              "      <td>Groups</td>\n",
              "      <td>Corporate</td>\n",
              "      <td>0</td>\n",
              "      <td>0</td>\n",
              "      <td>0</td>\n",
              "      <td>A</td>\n",
              "      <td>A</td>\n",
              "      <td>0</td>\n",
              "      <td>No Deposit</td>\n",
              "      <td>NaN</td>\n",
              "      <td>NaN</td>\n",
              "      <td>0</td>\n",
              "      <td>Transient-Party</td>\n",
              "      <td>132.00</td>\n",
              "      <td>0</td>\n",
              "      <td>0</td>\n",
              "      <td>Check-Out</td>\n",
              "      <td>2016-10-03</td>\n",
              "    </tr>\n",
              "    <tr>\n",
              "      <th>34429</th>\n",
              "      <td>Resort Hotel</td>\n",
              "      <td>0</td>\n",
              "      <td>15</td>\n",
              "      <td>2017</td>\n",
              "      <td>March</td>\n",
              "      <td>12</td>\n",
              "      <td>20</td>\n",
              "      <td>1</td>\n",
              "      <td>4</td>\n",
              "      <td>2</td>\n",
              "      <td>0.0</td>\n",
              "      <td>0</td>\n",
              "      <td>BB</td>\n",
              "      <td>GBR</td>\n",
              "      <td>Online TA</td>\n",
              "      <td>TA/TO</td>\n",
              "      <td>0</td>\n",
              "      <td>0</td>\n",
              "      <td>0</td>\n",
              "      <td>D</td>\n",
              "      <td>D</td>\n",
              "      <td>0</td>\n",
              "      <td>No Deposit</td>\n",
              "      <td>314.0</td>\n",
              "      <td>NaN</td>\n",
              "      <td>0</td>\n",
              "      <td>Transient</td>\n",
              "      <td>60.00</td>\n",
              "      <td>0</td>\n",
              "      <td>0</td>\n",
              "      <td>Check-Out</td>\n",
              "      <td>2017-03-25</td>\n",
              "    </tr>\n",
              "    <tr>\n",
              "      <th>3579</th>\n",
              "      <td>Resort Hotel</td>\n",
              "      <td>0</td>\n",
              "      <td>127</td>\n",
              "      <td>2015</td>\n",
              "      <td>December</td>\n",
              "      <td>52</td>\n",
              "      <td>24</td>\n",
              "      <td>2</td>\n",
              "      <td>5</td>\n",
              "      <td>2</td>\n",
              "      <td>0.0</td>\n",
              "      <td>0</td>\n",
              "      <td>BB</td>\n",
              "      <td>POL</td>\n",
              "      <td>Online TA</td>\n",
              "      <td>TA/TO</td>\n",
              "      <td>0</td>\n",
              "      <td>0</td>\n",
              "      <td>0</td>\n",
              "      <td>A</td>\n",
              "      <td>D</td>\n",
              "      <td>1</td>\n",
              "      <td>No Deposit</td>\n",
              "      <td>240.0</td>\n",
              "      <td>NaN</td>\n",
              "      <td>0</td>\n",
              "      <td>Transient-Party</td>\n",
              "      <td>37.29</td>\n",
              "      <td>0</td>\n",
              "      <td>1</td>\n",
              "      <td>Check-Out</td>\n",
              "      <td>2015-12-31</td>\n",
              "    </tr>\n",
              "    <tr>\n",
              "      <th>9088</th>\n",
              "      <td>Resort Hotel</td>\n",
              "      <td>1</td>\n",
              "      <td>53</td>\n",
              "      <td>2016</td>\n",
              "      <td>October</td>\n",
              "      <td>44</td>\n",
              "      <td>27</td>\n",
              "      <td>1</td>\n",
              "      <td>3</td>\n",
              "      <td>2</td>\n",
              "      <td>0.0</td>\n",
              "      <td>0</td>\n",
              "      <td>BB</td>\n",
              "      <td>GBR</td>\n",
              "      <td>Online TA</td>\n",
              "      <td>TA/TO</td>\n",
              "      <td>0</td>\n",
              "      <td>0</td>\n",
              "      <td>0</td>\n",
              "      <td>A</td>\n",
              "      <td>A</td>\n",
              "      <td>0</td>\n",
              "      <td>No Deposit</td>\n",
              "      <td>240.0</td>\n",
              "      <td>NaN</td>\n",
              "      <td>0</td>\n",
              "      <td>Transient</td>\n",
              "      <td>70.75</td>\n",
              "      <td>0</td>\n",
              "      <td>3</td>\n",
              "      <td>Canceled</td>\n",
              "      <td>2016-10-03</td>\n",
              "    </tr>\n",
              "  </tbody>\n",
              "</table>\n",
              "</div>\n",
              "      <button class=\"colab-df-convert\" onclick=\"convertToInteractive('df-35d6eded-af0d-493d-9d9a-3c2747891b77')\"\n",
              "              title=\"Convert this dataframe to an interactive table.\"\n",
              "              style=\"display:none;\">\n",
              "        \n",
              "  <svg xmlns=\"http://www.w3.org/2000/svg\" height=\"24px\"viewBox=\"0 0 24 24\"\n",
              "       width=\"24px\">\n",
              "    <path d=\"M0 0h24v24H0V0z\" fill=\"none\"/>\n",
              "    <path d=\"M18.56 5.44l.94 2.06.94-2.06 2.06-.94-2.06-.94-.94-2.06-.94 2.06-2.06.94zm-11 1L8.5 8.5l.94-2.06 2.06-.94-2.06-.94L8.5 2.5l-.94 2.06-2.06.94zm10 10l.94 2.06.94-2.06 2.06-.94-2.06-.94-.94-2.06-.94 2.06-2.06.94z\"/><path d=\"M17.41 7.96l-1.37-1.37c-.4-.4-.92-.59-1.43-.59-.52 0-1.04.2-1.43.59L10.3 9.45l-7.72 7.72c-.78.78-.78 2.05 0 2.83L4 21.41c.39.39.9.59 1.41.59.51 0 1.02-.2 1.41-.59l7.78-7.78 2.81-2.81c.8-.78.8-2.07 0-2.86zM5.41 20L4 18.59l7.72-7.72 1.47 1.35L5.41 20z\"/>\n",
              "  </svg>\n",
              "      </button>\n",
              "      \n",
              "  <style>\n",
              "    .colab-df-container {\n",
              "      display:flex;\n",
              "      flex-wrap:wrap;\n",
              "      gap: 12px;\n",
              "    }\n",
              "\n",
              "    .colab-df-convert {\n",
              "      background-color: #E8F0FE;\n",
              "      border: none;\n",
              "      border-radius: 50%;\n",
              "      cursor: pointer;\n",
              "      display: none;\n",
              "      fill: #1967D2;\n",
              "      height: 32px;\n",
              "      padding: 0 0 0 0;\n",
              "      width: 32px;\n",
              "    }\n",
              "\n",
              "    .colab-df-convert:hover {\n",
              "      background-color: #E2EBFA;\n",
              "      box-shadow: 0px 1px 2px rgba(60, 64, 67, 0.3), 0px 1px 3px 1px rgba(60, 64, 67, 0.15);\n",
              "      fill: #174EA6;\n",
              "    }\n",
              "\n",
              "    [theme=dark] .colab-df-convert {\n",
              "      background-color: #3B4455;\n",
              "      fill: #D2E3FC;\n",
              "    }\n",
              "\n",
              "    [theme=dark] .colab-df-convert:hover {\n",
              "      background-color: #434B5C;\n",
              "      box-shadow: 0px 1px 3px 1px rgba(0, 0, 0, 0.15);\n",
              "      filter: drop-shadow(0px 1px 2px rgba(0, 0, 0, 0.3));\n",
              "      fill: #FFFFFF;\n",
              "    }\n",
              "  </style>\n",
              "\n",
              "      <script>\n",
              "        const buttonEl =\n",
              "          document.querySelector('#df-35d6eded-af0d-493d-9d9a-3c2747891b77 button.colab-df-convert');\n",
              "        buttonEl.style.display =\n",
              "          google.colab.kernel.accessAllowed ? 'block' : 'none';\n",
              "\n",
              "        async function convertToInteractive(key) {\n",
              "          const element = document.querySelector('#df-35d6eded-af0d-493d-9d9a-3c2747891b77');\n",
              "          const dataTable =\n",
              "            await google.colab.kernel.invokeFunction('convertToInteractive',\n",
              "                                                     [key], {});\n",
              "          if (!dataTable) return;\n",
              "\n",
              "          const docLinkHtml = 'Like what you see? Visit the ' +\n",
              "            '<a target=\"_blank\" href=https://colab.research.google.com/notebooks/data_table.ipynb>data table notebook</a>'\n",
              "            + ' to learn more about interactive tables.';\n",
              "          element.innerHTML = '';\n",
              "          dataTable['output_type'] = 'display_data';\n",
              "          await google.colab.output.renderOutput(dataTable, element);\n",
              "          const docLink = document.createElement('div');\n",
              "          docLink.innerHTML = docLinkHtml;\n",
              "          element.appendChild(docLink);\n",
              "        }\n",
              "      </script>\n",
              "    </div>\n",
              "  </div>\n",
              "  "
            ],
            "text/plain": [
              "              hotel  is_canceled  ...  reservation_status  reservation_status_date\n",
              "2707   Resort Hotel            0  ...           Check-Out               2015-10-28\n",
              "98669    City Hotel            0  ...           Check-Out               2016-10-03\n",
              "34429  Resort Hotel            0  ...           Check-Out               2017-03-25\n",
              "3579   Resort Hotel            0  ...           Check-Out               2015-12-31\n",
              "9088   Resort Hotel            1  ...            Canceled               2016-10-03\n",
              "\n",
              "[5 rows x 32 columns]"
            ]
          },
          "metadata": {},
          "execution_count": 288
        }
      ]
    },
    {
      "cell_type": "code",
      "source": [
        "df.describe().T"
      ],
      "metadata": {
        "colab": {
          "base_uri": "https://localhost:8080/",
          "height": 676
        },
        "id": "h2hTywYLsVcQ",
        "outputId": "e22fd70c-51c5-41c9-f852-3fb4715f9e08"
      },
      "execution_count": 289,
      "outputs": [
        {
          "output_type": "execute_result",
          "data": {
            "text/html": [
              "\n",
              "  <div id=\"df-04d92a2e-0d3d-4c2d-aff4-603dbe85facd\">\n",
              "    <div class=\"colab-df-container\">\n",
              "      <div>\n",
              "<style scoped>\n",
              "    .dataframe tbody tr th:only-of-type {\n",
              "        vertical-align: middle;\n",
              "    }\n",
              "\n",
              "    .dataframe tbody tr th {\n",
              "        vertical-align: top;\n",
              "    }\n",
              "\n",
              "    .dataframe thead th {\n",
              "        text-align: right;\n",
              "    }\n",
              "</style>\n",
              "<table border=\"1\" class=\"dataframe\">\n",
              "  <thead>\n",
              "    <tr style=\"text-align: right;\">\n",
              "      <th></th>\n",
              "      <th>count</th>\n",
              "      <th>mean</th>\n",
              "      <th>std</th>\n",
              "      <th>min</th>\n",
              "      <th>25%</th>\n",
              "      <th>50%</th>\n",
              "      <th>75%</th>\n",
              "      <th>max</th>\n",
              "    </tr>\n",
              "  </thead>\n",
              "  <tbody>\n",
              "    <tr>\n",
              "      <th>is_canceled</th>\n",
              "      <td>119390.0</td>\n",
              "      <td>0.370416</td>\n",
              "      <td>0.482918</td>\n",
              "      <td>0.00</td>\n",
              "      <td>0.00</td>\n",
              "      <td>0.000</td>\n",
              "      <td>1.0</td>\n",
              "      <td>1.0</td>\n",
              "    </tr>\n",
              "    <tr>\n",
              "      <th>lead_time</th>\n",
              "      <td>119390.0</td>\n",
              "      <td>104.011416</td>\n",
              "      <td>106.863097</td>\n",
              "      <td>0.00</td>\n",
              "      <td>18.00</td>\n",
              "      <td>69.000</td>\n",
              "      <td>160.0</td>\n",
              "      <td>737.0</td>\n",
              "    </tr>\n",
              "    <tr>\n",
              "      <th>arrival_date_year</th>\n",
              "      <td>119390.0</td>\n",
              "      <td>2016.156554</td>\n",
              "      <td>0.707476</td>\n",
              "      <td>2015.00</td>\n",
              "      <td>2016.00</td>\n",
              "      <td>2016.000</td>\n",
              "      <td>2017.0</td>\n",
              "      <td>2017.0</td>\n",
              "    </tr>\n",
              "    <tr>\n",
              "      <th>arrival_date_week_number</th>\n",
              "      <td>119390.0</td>\n",
              "      <td>27.165173</td>\n",
              "      <td>13.605138</td>\n",
              "      <td>1.00</td>\n",
              "      <td>16.00</td>\n",
              "      <td>28.000</td>\n",
              "      <td>38.0</td>\n",
              "      <td>53.0</td>\n",
              "    </tr>\n",
              "    <tr>\n",
              "      <th>arrival_date_day_of_month</th>\n",
              "      <td>119390.0</td>\n",
              "      <td>15.798241</td>\n",
              "      <td>8.780829</td>\n",
              "      <td>1.00</td>\n",
              "      <td>8.00</td>\n",
              "      <td>16.000</td>\n",
              "      <td>23.0</td>\n",
              "      <td>31.0</td>\n",
              "    </tr>\n",
              "    <tr>\n",
              "      <th>stays_in_weekend_nights</th>\n",
              "      <td>119390.0</td>\n",
              "      <td>0.927599</td>\n",
              "      <td>0.998613</td>\n",
              "      <td>0.00</td>\n",
              "      <td>0.00</td>\n",
              "      <td>1.000</td>\n",
              "      <td>2.0</td>\n",
              "      <td>19.0</td>\n",
              "    </tr>\n",
              "    <tr>\n",
              "      <th>stays_in_week_nights</th>\n",
              "      <td>119390.0</td>\n",
              "      <td>2.500302</td>\n",
              "      <td>1.908286</td>\n",
              "      <td>0.00</td>\n",
              "      <td>1.00</td>\n",
              "      <td>2.000</td>\n",
              "      <td>3.0</td>\n",
              "      <td>50.0</td>\n",
              "    </tr>\n",
              "    <tr>\n",
              "      <th>adults</th>\n",
              "      <td>119390.0</td>\n",
              "      <td>1.856403</td>\n",
              "      <td>0.579261</td>\n",
              "      <td>0.00</td>\n",
              "      <td>2.00</td>\n",
              "      <td>2.000</td>\n",
              "      <td>2.0</td>\n",
              "      <td>55.0</td>\n",
              "    </tr>\n",
              "    <tr>\n",
              "      <th>children</th>\n",
              "      <td>119386.0</td>\n",
              "      <td>0.103890</td>\n",
              "      <td>0.398561</td>\n",
              "      <td>0.00</td>\n",
              "      <td>0.00</td>\n",
              "      <td>0.000</td>\n",
              "      <td>0.0</td>\n",
              "      <td>10.0</td>\n",
              "    </tr>\n",
              "    <tr>\n",
              "      <th>babies</th>\n",
              "      <td>119390.0</td>\n",
              "      <td>0.007949</td>\n",
              "      <td>0.097436</td>\n",
              "      <td>0.00</td>\n",
              "      <td>0.00</td>\n",
              "      <td>0.000</td>\n",
              "      <td>0.0</td>\n",
              "      <td>10.0</td>\n",
              "    </tr>\n",
              "    <tr>\n",
              "      <th>is_repeated_guest</th>\n",
              "      <td>119390.0</td>\n",
              "      <td>0.031912</td>\n",
              "      <td>0.175767</td>\n",
              "      <td>0.00</td>\n",
              "      <td>0.00</td>\n",
              "      <td>0.000</td>\n",
              "      <td>0.0</td>\n",
              "      <td>1.0</td>\n",
              "    </tr>\n",
              "    <tr>\n",
              "      <th>previous_cancellations</th>\n",
              "      <td>119390.0</td>\n",
              "      <td>0.087118</td>\n",
              "      <td>0.844336</td>\n",
              "      <td>0.00</td>\n",
              "      <td>0.00</td>\n",
              "      <td>0.000</td>\n",
              "      <td>0.0</td>\n",
              "      <td>26.0</td>\n",
              "    </tr>\n",
              "    <tr>\n",
              "      <th>previous_bookings_not_canceled</th>\n",
              "      <td>119390.0</td>\n",
              "      <td>0.137097</td>\n",
              "      <td>1.497437</td>\n",
              "      <td>0.00</td>\n",
              "      <td>0.00</td>\n",
              "      <td>0.000</td>\n",
              "      <td>0.0</td>\n",
              "      <td>72.0</td>\n",
              "    </tr>\n",
              "    <tr>\n",
              "      <th>booking_changes</th>\n",
              "      <td>119390.0</td>\n",
              "      <td>0.221124</td>\n",
              "      <td>0.652306</td>\n",
              "      <td>0.00</td>\n",
              "      <td>0.00</td>\n",
              "      <td>0.000</td>\n",
              "      <td>0.0</td>\n",
              "      <td>21.0</td>\n",
              "    </tr>\n",
              "    <tr>\n",
              "      <th>agent</th>\n",
              "      <td>103050.0</td>\n",
              "      <td>86.693382</td>\n",
              "      <td>110.774548</td>\n",
              "      <td>1.00</td>\n",
              "      <td>9.00</td>\n",
              "      <td>14.000</td>\n",
              "      <td>229.0</td>\n",
              "      <td>535.0</td>\n",
              "    </tr>\n",
              "    <tr>\n",
              "      <th>company</th>\n",
              "      <td>6797.0</td>\n",
              "      <td>189.266735</td>\n",
              "      <td>131.655015</td>\n",
              "      <td>6.00</td>\n",
              "      <td>62.00</td>\n",
              "      <td>179.000</td>\n",
              "      <td>270.0</td>\n",
              "      <td>543.0</td>\n",
              "    </tr>\n",
              "    <tr>\n",
              "      <th>days_in_waiting_list</th>\n",
              "      <td>119390.0</td>\n",
              "      <td>2.321149</td>\n",
              "      <td>17.594721</td>\n",
              "      <td>0.00</td>\n",
              "      <td>0.00</td>\n",
              "      <td>0.000</td>\n",
              "      <td>0.0</td>\n",
              "      <td>391.0</td>\n",
              "    </tr>\n",
              "    <tr>\n",
              "      <th>adr</th>\n",
              "      <td>119390.0</td>\n",
              "      <td>101.831122</td>\n",
              "      <td>50.535790</td>\n",
              "      <td>-6.38</td>\n",
              "      <td>69.29</td>\n",
              "      <td>94.575</td>\n",
              "      <td>126.0</td>\n",
              "      <td>5400.0</td>\n",
              "    </tr>\n",
              "    <tr>\n",
              "      <th>required_car_parking_spaces</th>\n",
              "      <td>119390.0</td>\n",
              "      <td>0.062518</td>\n",
              "      <td>0.245291</td>\n",
              "      <td>0.00</td>\n",
              "      <td>0.00</td>\n",
              "      <td>0.000</td>\n",
              "      <td>0.0</td>\n",
              "      <td>8.0</td>\n",
              "    </tr>\n",
              "    <tr>\n",
              "      <th>total_of_special_requests</th>\n",
              "      <td>119390.0</td>\n",
              "      <td>0.571363</td>\n",
              "      <td>0.792798</td>\n",
              "      <td>0.00</td>\n",
              "      <td>0.00</td>\n",
              "      <td>0.000</td>\n",
              "      <td>1.0</td>\n",
              "      <td>5.0</td>\n",
              "    </tr>\n",
              "  </tbody>\n",
              "</table>\n",
              "</div>\n",
              "      <button class=\"colab-df-convert\" onclick=\"convertToInteractive('df-04d92a2e-0d3d-4c2d-aff4-603dbe85facd')\"\n",
              "              title=\"Convert this dataframe to an interactive table.\"\n",
              "              style=\"display:none;\">\n",
              "        \n",
              "  <svg xmlns=\"http://www.w3.org/2000/svg\" height=\"24px\"viewBox=\"0 0 24 24\"\n",
              "       width=\"24px\">\n",
              "    <path d=\"M0 0h24v24H0V0z\" fill=\"none\"/>\n",
              "    <path d=\"M18.56 5.44l.94 2.06.94-2.06 2.06-.94-2.06-.94-.94-2.06-.94 2.06-2.06.94zm-11 1L8.5 8.5l.94-2.06 2.06-.94-2.06-.94L8.5 2.5l-.94 2.06-2.06.94zm10 10l.94 2.06.94-2.06 2.06-.94-2.06-.94-.94-2.06-.94 2.06-2.06.94z\"/><path d=\"M17.41 7.96l-1.37-1.37c-.4-.4-.92-.59-1.43-.59-.52 0-1.04.2-1.43.59L10.3 9.45l-7.72 7.72c-.78.78-.78 2.05 0 2.83L4 21.41c.39.39.9.59 1.41.59.51 0 1.02-.2 1.41-.59l7.78-7.78 2.81-2.81c.8-.78.8-2.07 0-2.86zM5.41 20L4 18.59l7.72-7.72 1.47 1.35L5.41 20z\"/>\n",
              "  </svg>\n",
              "      </button>\n",
              "      \n",
              "  <style>\n",
              "    .colab-df-container {\n",
              "      display:flex;\n",
              "      flex-wrap:wrap;\n",
              "      gap: 12px;\n",
              "    }\n",
              "\n",
              "    .colab-df-convert {\n",
              "      background-color: #E8F0FE;\n",
              "      border: none;\n",
              "      border-radius: 50%;\n",
              "      cursor: pointer;\n",
              "      display: none;\n",
              "      fill: #1967D2;\n",
              "      height: 32px;\n",
              "      padding: 0 0 0 0;\n",
              "      width: 32px;\n",
              "    }\n",
              "\n",
              "    .colab-df-convert:hover {\n",
              "      background-color: #E2EBFA;\n",
              "      box-shadow: 0px 1px 2px rgba(60, 64, 67, 0.3), 0px 1px 3px 1px rgba(60, 64, 67, 0.15);\n",
              "      fill: #174EA6;\n",
              "    }\n",
              "\n",
              "    [theme=dark] .colab-df-convert {\n",
              "      background-color: #3B4455;\n",
              "      fill: #D2E3FC;\n",
              "    }\n",
              "\n",
              "    [theme=dark] .colab-df-convert:hover {\n",
              "      background-color: #434B5C;\n",
              "      box-shadow: 0px 1px 3px 1px rgba(0, 0, 0, 0.15);\n",
              "      filter: drop-shadow(0px 1px 2px rgba(0, 0, 0, 0.3));\n",
              "      fill: #FFFFFF;\n",
              "    }\n",
              "  </style>\n",
              "\n",
              "      <script>\n",
              "        const buttonEl =\n",
              "          document.querySelector('#df-04d92a2e-0d3d-4c2d-aff4-603dbe85facd button.colab-df-convert');\n",
              "        buttonEl.style.display =\n",
              "          google.colab.kernel.accessAllowed ? 'block' : 'none';\n",
              "\n",
              "        async function convertToInteractive(key) {\n",
              "          const element = document.querySelector('#df-04d92a2e-0d3d-4c2d-aff4-603dbe85facd');\n",
              "          const dataTable =\n",
              "            await google.colab.kernel.invokeFunction('convertToInteractive',\n",
              "                                                     [key], {});\n",
              "          if (!dataTable) return;\n",
              "\n",
              "          const docLinkHtml = 'Like what you see? Visit the ' +\n",
              "            '<a target=\"_blank\" href=https://colab.research.google.com/notebooks/data_table.ipynb>data table notebook</a>'\n",
              "            + ' to learn more about interactive tables.';\n",
              "          element.innerHTML = '';\n",
              "          dataTable['output_type'] = 'display_data';\n",
              "          await google.colab.output.renderOutput(dataTable, element);\n",
              "          const docLink = document.createElement('div');\n",
              "          docLink.innerHTML = docLinkHtml;\n",
              "          element.appendChild(docLink);\n",
              "        }\n",
              "      </script>\n",
              "    </div>\n",
              "  </div>\n",
              "  "
            ],
            "text/plain": [
              "                                   count         mean  ...     75%     max\n",
              "is_canceled                     119390.0     0.370416  ...     1.0     1.0\n",
              "lead_time                       119390.0   104.011416  ...   160.0   737.0\n",
              "arrival_date_year               119390.0  2016.156554  ...  2017.0  2017.0\n",
              "arrival_date_week_number        119390.0    27.165173  ...    38.0    53.0\n",
              "arrival_date_day_of_month       119390.0    15.798241  ...    23.0    31.0\n",
              "stays_in_weekend_nights         119390.0     0.927599  ...     2.0    19.0\n",
              "stays_in_week_nights            119390.0     2.500302  ...     3.0    50.0\n",
              "adults                          119390.0     1.856403  ...     2.0    55.0\n",
              "children                        119386.0     0.103890  ...     0.0    10.0\n",
              "babies                          119390.0     0.007949  ...     0.0    10.0\n",
              "is_repeated_guest               119390.0     0.031912  ...     0.0     1.0\n",
              "previous_cancellations          119390.0     0.087118  ...     0.0    26.0\n",
              "previous_bookings_not_canceled  119390.0     0.137097  ...     0.0    72.0\n",
              "booking_changes                 119390.0     0.221124  ...     0.0    21.0\n",
              "agent                           103050.0    86.693382  ...   229.0   535.0\n",
              "company                           6797.0   189.266735  ...   270.0   543.0\n",
              "days_in_waiting_list            119390.0     2.321149  ...     0.0   391.0\n",
              "adr                             119390.0   101.831122  ...   126.0  5400.0\n",
              "required_car_parking_spaces     119390.0     0.062518  ...     0.0     8.0\n",
              "total_of_special_requests       119390.0     0.571363  ...     1.0     5.0\n",
              "\n",
              "[20 rows x 8 columns]"
            ]
          },
          "metadata": {},
          "execution_count": 289
        }
      ]
    },
    {
      "cell_type": "code",
      "source": [
        "df.info()"
      ],
      "metadata": {
        "colab": {
          "base_uri": "https://localhost:8080/"
        },
        "id": "HZ4BWkAcIfR9",
        "outputId": "5e6d597e-817c-4a1b-8373-197e18872826"
      },
      "execution_count": 290,
      "outputs": [
        {
          "output_type": "stream",
          "name": "stdout",
          "text": [
            "<class 'pandas.core.frame.DataFrame'>\n",
            "RangeIndex: 119390 entries, 0 to 119389\n",
            "Data columns (total 32 columns):\n",
            " #   Column                          Non-Null Count   Dtype  \n",
            "---  ------                          --------------   -----  \n",
            " 0   hotel                           119390 non-null  object \n",
            " 1   is_canceled                     119390 non-null  int64  \n",
            " 2   lead_time                       119390 non-null  int64  \n",
            " 3   arrival_date_year               119390 non-null  int64  \n",
            " 4   arrival_date_month              119390 non-null  object \n",
            " 5   arrival_date_week_number        119390 non-null  int64  \n",
            " 6   arrival_date_day_of_month       119390 non-null  int64  \n",
            " 7   stays_in_weekend_nights         119390 non-null  int64  \n",
            " 8   stays_in_week_nights            119390 non-null  int64  \n",
            " 9   adults                          119390 non-null  int64  \n",
            " 10  children                        119386 non-null  float64\n",
            " 11  babies                          119390 non-null  int64  \n",
            " 12  meal                            119390 non-null  object \n",
            " 13  country                         118902 non-null  object \n",
            " 14  market_segment                  119390 non-null  object \n",
            " 15  distribution_channel            119390 non-null  object \n",
            " 16  is_repeated_guest               119390 non-null  int64  \n",
            " 17  previous_cancellations          119390 non-null  int64  \n",
            " 18  previous_bookings_not_canceled  119390 non-null  int64  \n",
            " 19  reserved_room_type              119390 non-null  object \n",
            " 20  assigned_room_type              119390 non-null  object \n",
            " 21  booking_changes                 119390 non-null  int64  \n",
            " 22  deposit_type                    119390 non-null  object \n",
            " 23  agent                           103050 non-null  float64\n",
            " 24  company                         6797 non-null    float64\n",
            " 25  days_in_waiting_list            119390 non-null  int64  \n",
            " 26  customer_type                   119390 non-null  object \n",
            " 27  adr                             119390 non-null  float64\n",
            " 28  required_car_parking_spaces     119390 non-null  int64  \n",
            " 29  total_of_special_requests       119390 non-null  int64  \n",
            " 30  reservation_status              119390 non-null  object \n",
            " 31  reservation_status_date         119390 non-null  object \n",
            "dtypes: float64(4), int64(16), object(12)\n",
            "memory usage: 29.1+ MB\n"
          ]
        }
      ]
    },
    {
      "cell_type": "code",
      "source": [
        "df.isna().sum()"
      ],
      "metadata": {
        "colab": {
          "base_uri": "https://localhost:8080/"
        },
        "id": "58VKaSWuIhW_",
        "outputId": "177d5496-9a5c-49e7-83d0-9cdf19be6ec4"
      },
      "execution_count": 291,
      "outputs": [
        {
          "output_type": "execute_result",
          "data": {
            "text/plain": [
              "hotel                                  0\n",
              "is_canceled                            0\n",
              "lead_time                              0\n",
              "arrival_date_year                      0\n",
              "arrival_date_month                     0\n",
              "arrival_date_week_number               0\n",
              "arrival_date_day_of_month              0\n",
              "stays_in_weekend_nights                0\n",
              "stays_in_week_nights                   0\n",
              "adults                                 0\n",
              "children                               4\n",
              "babies                                 0\n",
              "meal                                   0\n",
              "country                              488\n",
              "market_segment                         0\n",
              "distribution_channel                   0\n",
              "is_repeated_guest                      0\n",
              "previous_cancellations                 0\n",
              "previous_bookings_not_canceled         0\n",
              "reserved_room_type                     0\n",
              "assigned_room_type                     0\n",
              "booking_changes                        0\n",
              "deposit_type                           0\n",
              "agent                              16340\n",
              "company                           112593\n",
              "days_in_waiting_list                   0\n",
              "customer_type                          0\n",
              "adr                                    0\n",
              "required_car_parking_spaces            0\n",
              "total_of_special_requests              0\n",
              "reservation_status                     0\n",
              "reservation_status_date                0\n",
              "dtype: int64"
            ]
          },
          "metadata": {},
          "execution_count": 291
        }
      ]
    },
    {
      "cell_type": "markdown",
      "source": [
        "There are some columns with na values whcih we are going to dig deeply later"
      ],
      "metadata": {
        "id": "JG7AFM1-JluO"
      }
    },
    {
      "cell_type": "markdown",
      "source": [
        "#Clean Data & Feature engineering"
      ],
      "metadata": {
        "id": "O7C80BaNt2PS"
      }
    },
    {
      "cell_type": "markdown",
      "source": [
        "ADR general info and cleaning"
      ],
      "metadata": {
        "id": "rTqFStiPR_XO"
      }
    },
    {
      "cell_type": "code",
      "source": [
        "df[['adr']].describe()"
      ],
      "metadata": {
        "colab": {
          "base_uri": "https://localhost:8080/",
          "height": 300
        },
        "id": "tO96-IYQSJX_",
        "outputId": "ce1d9e2d-572f-436a-94ac-5e2f4d990844"
      },
      "execution_count": 292,
      "outputs": [
        {
          "output_type": "execute_result",
          "data": {
            "text/html": [
              "\n",
              "  <div id=\"df-0e891ef9-2f6d-4a8e-b6d5-06cb00d36d2f\">\n",
              "    <div class=\"colab-df-container\">\n",
              "      <div>\n",
              "<style scoped>\n",
              "    .dataframe tbody tr th:only-of-type {\n",
              "        vertical-align: middle;\n",
              "    }\n",
              "\n",
              "    .dataframe tbody tr th {\n",
              "        vertical-align: top;\n",
              "    }\n",
              "\n",
              "    .dataframe thead th {\n",
              "        text-align: right;\n",
              "    }\n",
              "</style>\n",
              "<table border=\"1\" class=\"dataframe\">\n",
              "  <thead>\n",
              "    <tr style=\"text-align: right;\">\n",
              "      <th></th>\n",
              "      <th>adr</th>\n",
              "    </tr>\n",
              "  </thead>\n",
              "  <tbody>\n",
              "    <tr>\n",
              "      <th>count</th>\n",
              "      <td>119390.000000</td>\n",
              "    </tr>\n",
              "    <tr>\n",
              "      <th>mean</th>\n",
              "      <td>101.831122</td>\n",
              "    </tr>\n",
              "    <tr>\n",
              "      <th>std</th>\n",
              "      <td>50.535790</td>\n",
              "    </tr>\n",
              "    <tr>\n",
              "      <th>min</th>\n",
              "      <td>-6.380000</td>\n",
              "    </tr>\n",
              "    <tr>\n",
              "      <th>25%</th>\n",
              "      <td>69.290000</td>\n",
              "    </tr>\n",
              "    <tr>\n",
              "      <th>50%</th>\n",
              "      <td>94.575000</td>\n",
              "    </tr>\n",
              "    <tr>\n",
              "      <th>75%</th>\n",
              "      <td>126.000000</td>\n",
              "    </tr>\n",
              "    <tr>\n",
              "      <th>max</th>\n",
              "      <td>5400.000000</td>\n",
              "    </tr>\n",
              "  </tbody>\n",
              "</table>\n",
              "</div>\n",
              "      <button class=\"colab-df-convert\" onclick=\"convertToInteractive('df-0e891ef9-2f6d-4a8e-b6d5-06cb00d36d2f')\"\n",
              "              title=\"Convert this dataframe to an interactive table.\"\n",
              "              style=\"display:none;\">\n",
              "        \n",
              "  <svg xmlns=\"http://www.w3.org/2000/svg\" height=\"24px\"viewBox=\"0 0 24 24\"\n",
              "       width=\"24px\">\n",
              "    <path d=\"M0 0h24v24H0V0z\" fill=\"none\"/>\n",
              "    <path d=\"M18.56 5.44l.94 2.06.94-2.06 2.06-.94-2.06-.94-.94-2.06-.94 2.06-2.06.94zm-11 1L8.5 8.5l.94-2.06 2.06-.94-2.06-.94L8.5 2.5l-.94 2.06-2.06.94zm10 10l.94 2.06.94-2.06 2.06-.94-2.06-.94-.94-2.06-.94 2.06-2.06.94z\"/><path d=\"M17.41 7.96l-1.37-1.37c-.4-.4-.92-.59-1.43-.59-.52 0-1.04.2-1.43.59L10.3 9.45l-7.72 7.72c-.78.78-.78 2.05 0 2.83L4 21.41c.39.39.9.59 1.41.59.51 0 1.02-.2 1.41-.59l7.78-7.78 2.81-2.81c.8-.78.8-2.07 0-2.86zM5.41 20L4 18.59l7.72-7.72 1.47 1.35L5.41 20z\"/>\n",
              "  </svg>\n",
              "      </button>\n",
              "      \n",
              "  <style>\n",
              "    .colab-df-container {\n",
              "      display:flex;\n",
              "      flex-wrap:wrap;\n",
              "      gap: 12px;\n",
              "    }\n",
              "\n",
              "    .colab-df-convert {\n",
              "      background-color: #E8F0FE;\n",
              "      border: none;\n",
              "      border-radius: 50%;\n",
              "      cursor: pointer;\n",
              "      display: none;\n",
              "      fill: #1967D2;\n",
              "      height: 32px;\n",
              "      padding: 0 0 0 0;\n",
              "      width: 32px;\n",
              "    }\n",
              "\n",
              "    .colab-df-convert:hover {\n",
              "      background-color: #E2EBFA;\n",
              "      box-shadow: 0px 1px 2px rgba(60, 64, 67, 0.3), 0px 1px 3px 1px rgba(60, 64, 67, 0.15);\n",
              "      fill: #174EA6;\n",
              "    }\n",
              "\n",
              "    [theme=dark] .colab-df-convert {\n",
              "      background-color: #3B4455;\n",
              "      fill: #D2E3FC;\n",
              "    }\n",
              "\n",
              "    [theme=dark] .colab-df-convert:hover {\n",
              "      background-color: #434B5C;\n",
              "      box-shadow: 0px 1px 3px 1px rgba(0, 0, 0, 0.15);\n",
              "      filter: drop-shadow(0px 1px 2px rgba(0, 0, 0, 0.3));\n",
              "      fill: #FFFFFF;\n",
              "    }\n",
              "  </style>\n",
              "\n",
              "      <script>\n",
              "        const buttonEl =\n",
              "          document.querySelector('#df-0e891ef9-2f6d-4a8e-b6d5-06cb00d36d2f button.colab-df-convert');\n",
              "        buttonEl.style.display =\n",
              "          google.colab.kernel.accessAllowed ? 'block' : 'none';\n",
              "\n",
              "        async function convertToInteractive(key) {\n",
              "          const element = document.querySelector('#df-0e891ef9-2f6d-4a8e-b6d5-06cb00d36d2f');\n",
              "          const dataTable =\n",
              "            await google.colab.kernel.invokeFunction('convertToInteractive',\n",
              "                                                     [key], {});\n",
              "          if (!dataTable) return;\n",
              "\n",
              "          const docLinkHtml = 'Like what you see? Visit the ' +\n",
              "            '<a target=\"_blank\" href=https://colab.research.google.com/notebooks/data_table.ipynb>data table notebook</a>'\n",
              "            + ' to learn more about interactive tables.';\n",
              "          element.innerHTML = '';\n",
              "          dataTable['output_type'] = 'display_data';\n",
              "          await google.colab.output.renderOutput(dataTable, element);\n",
              "          const docLink = document.createElement('div');\n",
              "          docLink.innerHTML = docLinkHtml;\n",
              "          element.appendChild(docLink);\n",
              "        }\n",
              "      </script>\n",
              "    </div>\n",
              "  </div>\n",
              "  "
            ],
            "text/plain": [
              "                 adr\n",
              "count  119390.000000\n",
              "mean      101.831122\n",
              "std        50.535790\n",
              "min        -6.380000\n",
              "25%        69.290000\n",
              "50%        94.575000\n",
              "75%       126.000000\n",
              "max      5400.000000"
            ]
          },
          "metadata": {},
          "execution_count": 292
        }
      ]
    },
    {
      "cell_type": "code",
      "source": [
        "df[['adr']].boxplot()\n"
      ],
      "metadata": {
        "colab": {
          "base_uri": "https://localhost:8080/",
          "height": 282
        },
        "id": "AbUEjZzdSjE1",
        "outputId": "d8dd7faa-54e2-4a0e-ecc5-74e6bfbe49b2"
      },
      "execution_count": 293,
      "outputs": [
        {
          "output_type": "execute_result",
          "data": {
            "text/plain": [
              "<matplotlib.axes._subplots.AxesSubplot at 0x7f9b961c8610>"
            ]
          },
          "metadata": {},
          "execution_count": 293
        },
        {
          "output_type": "display_data",
          "data": {
            "image/png": "[encoded data removed]",
            "text/plain": [
              "<Figure size 432x288 with 1 Axes>"
            ]
          },
          "metadata": {
            "needs_background": "light"
          }
        }
      ]
    },
    {
      "cell_type": "markdown",
      "source": [
        "As we can see there is a sample of adr 5400 which is out or the range, it seems to be an error. Let's remove it and see how this graph looks afterward."
      ],
      "metadata": {
        "id": "BO8FCvQaWUiu"
      }
    },
    {
      "cell_type": "code",
      "source": [
        "df = df[df.adr<5000]\n",
        "df[['adr']].boxplot()"
      ],
      "metadata": {
        "colab": {
          "base_uri": "https://localhost:8080/",
          "height": 282
        },
        "id": "yF638zRwS3Te",
        "outputId": "7d8d84a9-fb97-4457-a785-ab38e50ba9b2"
      },
      "execution_count": 294,
      "outputs": [
        {
          "output_type": "execute_result",
          "data": {
            "text/plain": [
              "<matplotlib.axes._subplots.AxesSubplot at 0x7f9b967375d0>"
            ]
          },
          "metadata": {},
          "execution_count": 294
        },
        {
          "output_type": "display_data",
          "data": {
            "image/png": "[encoded data removed]",
            "text/plain": [
              "<Figure size 432x288 with 1 Axes>"
            ]
          },
          "metadata": {
            "needs_background": "light"
          }
        }
      ]
    },
    {
      "cell_type": "markdown",
      "source": [
        "As we can see, there are still some outliers but we need to remember that we are going to predict the adr column so we cannot just remove them. \n",
        "However, we can see that there are values under 0, which doesn't make sense:"
      ],
      "metadata": {
        "id": "49F10-oPWmtY"
      }
    },
    {
      "cell_type": "code",
      "source": [
        "sns.displot(df['adr'], bins = 500)\n",
        "plt.xlim(-10,50)"
      ],
      "metadata": {
        "colab": {
          "base_uri": "https://localhost:8080/",
          "height": 386
        },
        "id": "WKlUGhoQTX42",
        "outputId": "323cc400-2757-453f-f695-33a7de755f91"
      },
      "execution_count": 295,
      "outputs": [
        {
          "output_type": "execute_result",
          "data": {
            "text/plain": [
              "(-10.0, 50.0)"
            ]
          },
          "metadata": {},
          "execution_count": 295
        },
        {
          "output_type": "display_data",
          "data": {
            "image/png": "[encoded data removed]",
            "text/plain": [
              "<Figure size 360x360 with 1 Axes>"
            ]
          },
          "metadata": {
            "needs_background": "light"
          }
        }
      ]
    },
    {
      "cell_type": "markdown",
      "source": [
        "We can guess that under 0 is an error ( we even cannot see them in the graph) and the 0 values are a present\\contract between companies\\test but anyway, after checking we cannot know it with our data. So for making out data more relaibe, let's from whcih values od adr, we begin to have samples"
      ],
      "metadata": {
        "id": "yLk5DCsDXDVI"
      }
    },
    {
      "cell_type": "code",
      "source": [
        "sns.displot(df['adr'], bins = 500)\n",
        "plt.xlim(20,30)"
      ],
      "metadata": {
        "colab": {
          "base_uri": "https://localhost:8080/",
          "height": 386
        },
        "id": "AsREgo0mTk0J",
        "outputId": "2234eaca-891c-4f14-bbe6-0e21dc157bec"
      },
      "execution_count": 296,
      "outputs": [
        {
          "output_type": "execute_result",
          "data": {
            "text/plain": [
              "(20.0, 30.0)"
            ]
          },
          "metadata": {},
          "execution_count": 296
        },
        {
          "output_type": "display_data",
          "data": {
            "image/png": "[encoded data removed]",
            "text/plain": [
              "<Figure size 360x360 with 1 Axes>"
            ]
          },
          "metadata": {
            "needs_background": "light"
          }
        }
      ]
    },
    {
      "cell_type": "markdown",
      "source": [
        "So for making our data more reliable, let's reffer only to the results with adr over than 23. (I took 23 and not 24 only because ADR values are float type, so we want to be in the safe side). "
      ],
      "metadata": {
        "id": "i-JxP4EXYBZH"
      }
    },
    {
      "cell_type": "code",
      "source": [
        "#del outliers in adr\n",
        "df = df[df.adr > 23] \n"
      ],
      "metadata": {
        "id": "J5QgrkAhT45p"
      },
      "execution_count": 297,
      "outputs": []
    },
    {
      "cell_type": "markdown",
      "source": [
        "As we can see at the null values table we have 4 rows with na values in the children columns. 4 values don't effect on the resutls and it deosn't worth it to check it out deeply so we can just ignore them:"
      ],
      "metadata": {
        "id": "9fCNQms0Yebp"
      }
    },
    {
      "cell_type": "code",
      "source": [
        "#excluding rows with nan values in children column.\n",
        "df = df[df['children'].isnull() == False]"
      ],
      "metadata": {
        "id": "MZS0q4uOUSwv"
      },
      "execution_count": 298,
      "outputs": []
    },
    {
      "cell_type": "markdown",
      "source": [
        "As we can read on the metadata, the values \"SC\" and \"unidentified\" at the \"meal\" columns are the same, so let's checnge it in our data frame"
      ],
      "metadata": {
        "id": "y-sLk-xtYz4o"
      }
    },
    {
      "cell_type": "markdown",
      "source": [
        "Grouping:"
      ],
      "metadata": {
        "id": "-4vizrJGZZY_"
      }
    },
    {
      "cell_type": "code",
      "source": [
        "df.loc[(df.meal == 'SC')| (df.meal == 'Undefined'), 'meal'] = 'SC_Undefined'"
      ],
      "metadata": {
        "id": "-v0TOI5PYzFq"
      },
      "execution_count": 299,
      "outputs": []
    },
    {
      "cell_type": "code",
      "source": [
        "# cleaning room with babies guests only\n",
        "df = df[~((df.children == 0 )& (df.adults == 0 )& (df.babies >0)) ]\n"
      ],
      "metadata": {
        "id": "YJiRSzcqab3l"
      },
      "execution_count": 300,
      "outputs": []
    },
    {
      "cell_type": "markdown",
      "source": [
        "#Features engineering"
      ],
      "metadata": {
        "id": "6ALyfrXfZdgB"
      }
    },
    {
      "cell_type": "code",
      "source": [
        "df['total_nights'] = df.stays_in_weekend_nights + df.stays_in_week_nights # new column represents number of nights in total\n",
        "df['prop_weekend'] = df.stays_in_weekend_nights / df.total_nights # new column represents porportion of weekend in total nights\n",
        "df['total_guests'] = df.adults + df.children + df.babies  # new column represents number of guests in total\n",
        "df['is_resort'] =  df.hotel.apply(lambda x : 1 if x == 'Resort Hotel' else 0  )   # new column represents if the hoter is resort or city\n",
        "df['is_company'] = df['company'].apply(lambda x: 1 if  pd.isna(x) == False else 0 )   # new column represents if the order booky by a companr or a private customer\n",
        "df['booking_by_a_travel_agent'] = df['agent'].apply(lambda x: 1 if  pd.isna(x) == False else 0 )  # new column represents if the order was booked by using an travel agent or indepently.\n",
        "df['is_weekend'] = df.stays_in_weekend_nights > 0 # new column represents if the order is during the weekend."
      ],
      "metadata": {
        "id": "Fk0KdkwsZkA2"
      },
      "execution_count": 301,
      "outputs": []
    },
    {
      "cell_type": "code",
      "source": [
        "###making \"is_holiday\" column so we can check if the vacation is during a holiday.\n",
        "#change month str to int\n",
        "df['month_number'] = df.arrival_date_month.apply(lambda x: datetime.datetime.strptime(x,'%B').month )\n",
        "\n",
        "#edit df for 'to_datetime' function\n",
        "temp = df[['arrival_date_year','month_number','arrival_date_day_of_month']]\n",
        "temp.rename({'arrival_date_year' : 'year' ,'month_number':'month' , 'arrival_date_day_of_month' : 'day'  } ,axis = 1 , inplace = True)\n",
        "#create date\n",
        "df['arrival_date'] = pd.to_datetime(temp)\n",
        "df['arrival_year_month'] = df.arrival_date.dt.strftime('%Y-%m')\n",
        "\n",
        "#check if date is an holiday\n",
        "cal = calendar()\n",
        "holidays = cal.holidays(start = min(df.arrival_date) ,end =  max(df.arrival_date))\n",
        "df['is_holiday'] = df['arrival_date'].isin(holidays)"
      ],
      "metadata": {
        "id": "kay1GoHaEwXU"
      },
      "execution_count": 302,
      "outputs": []
    },
    {
      "cell_type": "markdown",
      "source": [
        "#cleaning data number 2 (after features engineering)"
      ],
      "metadata": {
        "id": "35lZDcDEaLjP"
      }
    },
    {
      "cell_type": "code",
      "source": [
        "#cleaning orders with no guests.\n",
        "df = df[df['total_guests'] > 0] \n"
      ],
      "metadata": {
        "id": "xk8bn2w78YZ1"
      },
      "execution_count": 303,
      "outputs": []
    },
    {
      "cell_type": "code",
      "source": [
        "df.total_guests.value_counts()"
      ],
      "metadata": {
        "colab": {
          "base_uri": "https://localhost:8080/"
        },
        "id": "VOV1ZrObobRn",
        "outputId": "2591f033-7d68-4643-8b6d-af283ad397ca"
      },
      "execution_count": 304,
      "outputs": [
        {
          "output_type": "execute_result",
          "data": {
            "text/plain": [
              "2.0     80961\n",
              "1.0     21590\n",
              "3.0     10381\n",
              "4.0      3887\n",
              "5.0       131\n",
              "12.0        2\n",
              "10.0        1\n",
              "Name: total_guests, dtype: int64"
            ]
          },
          "metadata": {},
          "execution_count": 304
        }
      ]
    },
    {
      "cell_type": "markdown",
      "source": [
        "As we can see we don't really have orders with more than 5 guests. \n",
        "so it'd be better to ignore them so out model won't be effectted by them."
      ],
      "metadata": {
        "id": "T4DF0DEWoeDb"
      }
    },
    {
      "cell_type": "code",
      "source": [
        "#cleaning orders with more than 5 guests\n",
        "df = df[df['total_guests'] <6] "
      ],
      "metadata": {
        "id": "GWzJD5h0oueW"
      },
      "execution_count": 305,
      "outputs": []
    },
    {
      "cell_type": "markdown",
      "source": [
        "#Linear regression"
      ],
      "metadata": {
        "id": "9fee6wvdpWu7"
      }
    },
    {
      "cell_type": "markdown",
      "source": [
        "#Choose Features for the model"
      ],
      "metadata": {
        "id": "YmJ6KpPvH9u8"
      }
    },
    {
      "cell_type": "code",
      "source": [
        "\"\"\"\n",
        "#split hotels into two df\n",
        "df_resort = df[df.hotel == 'Resort Hotel']\n",
        "df_city = df[df.hotel == 'City Hotel']\n",
        "\n",
        "\"\"\""
      ],
      "metadata": {
        "id": "OL9s_8tX2ohV",
        "colab": {
          "base_uri": "https://localhost:8080/",
          "height": 35
        },
        "outputId": "fa48261d-30df-410c-aeb9-a5d8b2f47d94"
      },
      "execution_count": 306,
      "outputs": [
        {
          "output_type": "execute_result",
          "data": {
            "application/vnd.google.colaboratory.intrinsic+json": {
              "type": "string"
            },
            "text/plain": [
              "\"\\n#split hotels into two df\\ndf_resort = df[df.hotel == 'Resort Hotel']\\ndf_city = df[df.hotel == 'City Hotel']\\n\\n\""
            ]
          },
          "metadata": {},
          "execution_count": 306
        }
      ]
    },
    {
      "cell_type": "code",
      "source": [
        "#convert col 'month number' to string for dummies transformation\n",
        "df.month_number = df.month_number.astype(str)"
      ],
      "metadata": {
        "id": "plULQ_yLvlnA"
      },
      "execution_count": 307,
      "outputs": []
    },
    {
      "cell_type": "code",
      "source": [
        "df_to_model = df[['is_resort' , 'month_number' , 'lead_time' ,'arrival_date_week_number' ,'distribution_channel' ,'customer_type' \n",
        "                  ,'is_company' ,'booking_by_a_travel_agent' ,'market_segment'  ,'is_holiday'  , 'previous_cancellations','previous_bookings_not_canceled'\n",
        "                  ,'adults', 'children', 'babies', 'meal' ,'is_repeated_guest' , 'required_car_parking_spaces'\n",
        "                , 'reserved_room_type' ,'total_nights','is_weekend', 'prop_weekend','adr']]"
      ],
      "metadata": {
        "id": "IkVT3O1GP4P3"
      },
      "execution_count": 308,
      "outputs": []
    },
    {
      "cell_type": "code",
      "source": [
        "df_to_model = pd.get_dummies(df_to_model , drop_first= True)\n"
      ],
      "metadata": {
        "id": "Kan3WstnJatq"
      },
      "execution_count": 309,
      "outputs": []
    },
    {
      "cell_type": "code",
      "source": [
        "X = df_to_model.drop(columns= ['adr'])\n",
        "y = df_to_model.adr"
      ],
      "metadata": {
        "id": "xVikdpLxJtqe"
      },
      "execution_count": 310,
      "outputs": []
    },
    {
      "cell_type": "markdown",
      "source": [
        "split to test tran"
      ],
      "metadata": {
        "id": "Dt9YWh8GKUIP"
      }
    },
    {
      "cell_type": "code",
      "source": [
        "X_train, X_test, y_train, y_test = split(X, y, test_size=0.3, random_state=123456) "
      ],
      "metadata": {
        "id": "kCmRoSxyJ-eN"
      },
      "execution_count": 311,
      "outputs": []
    },
    {
      "cell_type": "markdown",
      "source": [
        "##Linear Regression"
      ],
      "metadata": {
        "id": "6uFyu_vKcvUb"
      }
    },
    {
      "cell_type": "markdown",
      "source": [
        "###Fit &Predict"
      ],
      "metadata": {
        "id": "x832DVBsK55R"
      }
    },
    {
      "cell_type": "code",
      "source": [
        "First_model = LinearRegression().fit(X_train , y_train)\n",
        "y_train_pred = First_model.predict(X_train)\n",
        "y_test_pred = First_model.predict(X_test)"
      ],
      "metadata": {
        "id": "7Z0BBzevqVxs"
      },
      "execution_count": 312,
      "outputs": []
    },
    {
      "cell_type": "code",
      "source": [
        "\n",
        "mse_train = mse(y_train, y_train_pred , squared= False)\n",
        "print(f' mse_train : {mse_train}')\n",
        "ax = sns.scatterplot(x=y_train, y=y_train_pred )\n",
        "ax.plot(y_train, y_train, 'r')\n"
      ],
      "metadata": {
        "colab": {
          "base_uri": "https://localhost:8080/",
          "height": 314
        },
        "id": "V31Y5GuSpwqd",
        "outputId": "1ac386fe-aaf6-4138-98e0-c87b6c734fe3"
      },
      "execution_count": 313,
      "outputs": [
        {
          "output_type": "stream",
          "name": "stdout",
          "text": [
            " mse_train : 30.330121913134686\n"
          ]
        },
        {
          "output_type": "execute_result",
          "data": {
            "text/plain": [
              "[<matplotlib.lines.Line2D at 0x7f9b96aea9d0>]"
            ]
          },
          "metadata": {},
          "execution_count": 313
        },
        {
          "output_type": "display_data",
          "data": {
            "image/png": "[encoded data removed]",
            "text/plain": [
              "<Figure size 432x288 with 1 Axes>"
            ]
          },
          "metadata": {
            "needs_background": "light"
          }
        }
      ]
    },
    {
      "cell_type": "markdown",
      "source": [
        "###Validation"
      ],
      "metadata": {
        "id": "OON-dCBSyHXz"
      }
    },
    {
      "cell_type": "code",
      "source": [
        "mse_test = mse(y_test, y_test_pred , squared= False)\n",
        "print(f' mse_test : {mse_test}')\n",
        "ax = sns.scatterplot(x = y_test, y = y_test_pred, color = 'orange')\n",
        "ax.plot(y_test,y_test, 'r')"
      ],
      "metadata": {
        "colab": {
          "base_uri": "https://localhost:8080/",
          "height": 314
        },
        "id": "fje7nhRwpzJf",
        "outputId": "fefe4242-2a4c-435d-c77a-d0f00f172619"
      },
      "execution_count": 314,
      "outputs": [
        {
          "output_type": "stream",
          "name": "stdout",
          "text": [
            " mse_test : 30.53996888774313\n"
          ]
        },
        {
          "output_type": "execute_result",
          "data": {
            "text/plain": [
              "[<matplotlib.lines.Line2D at 0x7f9b97174510>]"
            ]
          },
          "metadata": {},
          "execution_count": 314
        },
        {
          "output_type": "display_data",
          "data": {
            "image/png": "[encoded data removed]",
            "text/plain": [
              "<Figure size 432x288 with 1 Axes>"
            ]
          },
          "metadata": {
            "needs_background": "light"
          }
        }
      ]
    },
    {
      "cell_type": "code",
      "source": [
        "#parameters of the model\n",
        "#model 0 --> city hotel\n",
        "print(First_model.intercept_)\n",
        "zipped = zip(X_test.columns, First_model.coef_)\n",
        "zipped_sorted = sorted(zipped, key = lambda x : abs(x[1])  , reverse  = True)\n",
        "zipped_sorted\n"
      ],
      "metadata": {
        "colab": {
          "base_uri": "https://localhost:8080/"
        },
        "id": "ap0t0t7Us6ZZ",
        "outputId": "57bdd0aa-3564-43ff-80cb-8915b2707057"
      },
      "execution_count": 315,
      "outputs": [
        {
          "output_type": "stream",
          "name": "stdout",
          "text": [
            "43.937817388859834\n"
          ]
        },
        {
          "output_type": "execute_result",
          "data": {
            "text/plain": [
              "[('month_number_8', 70.97265614779258),\n",
              " ('reserved_room_type_H', 70.08389926452222),\n",
              " ('reserved_room_type_G', 62.45834112380299),\n",
              " ('month_number_7', 59.58595499268084),\n",
              " ('month_number_6', 52.290465846995104),\n",
              " ('month_number_9', 50.491325683287506),\n",
              " ('reserved_room_type_F', 48.74483880548039),\n",
              " ('month_number_5', 44.19890768381419),\n",
              " ('meal_FB', 41.307817072917025),\n",
              " ('reserved_room_type_C', 39.96305918824325),\n",
              " ('market_segment_Complementary', -37.128235111991295),\n",
              " ('month_number_10', 35.7939258023384),\n",
              " ('distribution_channel_Undefined', -35.66797696968426),\n",
              " ('reserved_room_type_E', 31.437270794417095),\n",
              " ('month_number_4', 31.042478128630265),\n",
              " ('distribution_channel_GDS', 28.737464145582198),\n",
              " ('meal_HB', 25.72737539063229),\n",
              " ('month_number_12', 24.970624153636052),\n",
              " ('is_resort', -24.44594642628176),\n",
              " ('reserved_room_type_L', 23.937928950267445),\n",
              " ('month_number_11', 21.308987972228767),\n",
              " ('reserved_room_type_D', 17.30528905568991),\n",
              " ('market_segment_Online TA', 15.849499870774885),\n",
              " ('customer_type_Transient', 14.387654570569941),\n",
              " ('children', 14.249793261829941),\n",
              " ('reserved_room_type_B', -12.668140965783563),\n",
              " ('month_number_3', 11.378671740222199),\n",
              " ('adults', 9.834976665237805),\n",
              " ('customer_type_Transient-Party', 9.136539404380553),\n",
              " ('market_segment_Direct', 9.027286664639302),\n",
              " ('customer_type_Group', 8.186183598064684),\n",
              " ('is_repeated_guest', -6.7888914937156235),\n",
              " ('prop_weekend', -6.675547275678675),\n",
              " ('booking_by_a_travel_agent', -6.6528714111728435),\n",
              " ('meal_SC_Undefined', -6.4747286991018),\n",
              " ('distribution_channel_Direct', 4.892329626118497),\n",
              " ('market_segment_Corporate', -4.889175445643869),\n",
              " ('required_car_parking_spaces', 3.5410084337213426),\n",
              " ('month_number_2', 3.2538683275428433),\n",
              " ('market_segment_Offline TA/TO', -3.239154307641936),\n",
              " ('babies', 3.1128563621219425),\n",
              " ('distribution_channel_TA/TO', 2.1674037027222255),\n",
              " ('market_segment_Groups', -1.8168658131097872),\n",
              " ('previous_cancellations', -1.6848321902340504),\n",
              " ('is_weekend', 1.6465112372379693),\n",
              " ('is_company', -1.2654733336379977),\n",
              " ('is_holiday', -0.5445226280380582),\n",
              " ('arrival_date_week_number', -0.29833058943302765),\n",
              " ('previous_bookings_not_canceled', -0.2955101333819582),\n",
              " ('total_nights', -0.1887372744224156),\n",
              " ('lead_time', -0.06788611736082861)]"
            ]
          },
          "metadata": {},
          "execution_count": 315
        }
      ]
    },
    {
      "cell_type": "markdown",
      "source": [
        "# During the EDA and the tests to get the best results for out model we noticed that each kind of hotel behaves deiffrently and we consider to try to split out model into two diffternt model. \n",
        "One of the most effective columns is the mounth od the arrival date. let's show that each kind of hotel behaves diffrentlt depends on the season. "
      ],
      "metadata": {
        "id": "_c2LzdCzqyu0"
      }
    },
    {
      "cell_type": "code",
      "source": [
        "df[df['hotel'] == 'Resort Hotel'].groupby('month_number')['adr'].mean().plot()"
      ],
      "metadata": {
        "colab": {
          "base_uri": "https://localhost:8080/",
          "height": 298
        },
        "id": "n4PQv93RrWfk",
        "outputId": "cc6c675f-de0f-435f-c57f-3942f46fd18f"
      },
      "execution_count": 316,
      "outputs": [
        {
          "output_type": "execute_result",
          "data": {
            "text/plain": [
              "<matplotlib.axes._subplots.AxesSubplot at 0x7f9b97187f90>"
            ]
          },
          "metadata": {},
          "execution_count": 316
        },
        {
          "output_type": "display_data",
          "data": {
            "image/png": "[encoded data removed]",
            "text/plain": [
              "<Figure size 432x288 with 1 Axes>"
            ]
          },
          "metadata": {
            "needs_background": "light"
          }
        }
      ]
    },
    {
      "cell_type": "code",
      "source": [
        "df[df['hotel'] == 'City Hotel'].groupby('month_number')['adr'].mean().plot()"
      ],
      "metadata": {
        "colab": {
          "base_uri": "https://localhost:8080/",
          "height": 299
        },
        "id": "YlJJ2U_Jsmd0",
        "outputId": "ccdcdc1c-84c5-4a49-8b02-cfcbf16cf019"
      },
      "execution_count": 317,
      "outputs": [
        {
          "output_type": "execute_result",
          "data": {
            "text/plain": [
              "<matplotlib.axes._subplots.AxesSubplot at 0x7f9b9715c9d0>"
            ]
          },
          "metadata": {},
          "execution_count": 317
        },
        {
          "output_type": "display_data",
          "data": {
            "image/png": "[encoded data removed]",
            "text/plain": [
              "<Figure size 432x288 with 1 Axes>"
            ]
          },
          "metadata": {
            "needs_background": "light"
          }
        }
      ]
    },
    {
      "cell_type": "markdown",
      "source": [
        "So let's create a comlexed model that is splited into two different models. we will use this complex  model for the other regressions models."
      ],
      "metadata": {
        "id": "oFsG0ZE8uMVu"
      }
    },
    {
      "cell_type": "code",
      "source": [
        "class My_Model():\n",
        "    def __init__(self):\n",
        "        self.cat_list = []\n",
        "        self.dict_exec_model = {'mlr': 'LinearRegression().fit(X_train, y_train)' ,  'knn': 'KNeighborsRegressor(n_neighbors= n_neighbors).fit(X_train, y_train)'\n",
        "                                ,'tree':'DecisionTreeRegressor( min_samples_leaf = min_samples_leaf, ccp_alpha= ccp_alpha, max_leaf_nodes= max_leaf_nodes,max_depth= max_depth  ).fit(X_train, y_train)'\n",
        "                                }\n",
        "### models fit #####\n",
        "    def fit(self, X ,y  ,model = 'mlr' ,cat='' , n_neighbors = 5\n",
        "                    #parameters for tree:\n",
        "                    ,min_samples_split = 2\n",
        "                    ,splitter = 'best'\n",
        "                    ,min_samples_leaf = 10, \n",
        "                     ccp_alpha = 0.01, \n",
        "                     max_leaf_nodes =1000,\n",
        "                     max_depth =10):       \n",
        "        # if cat == '' and model in ['mlr','tree','knn']:\n",
        "        #     setattr(My_Model,f'{model}_general_model' , LinearRegression().fit(X_train, y_train) )\n",
        "        self.cat = cat\n",
        "        self.cat_list = X[cat].unique()\n",
        "        for cat_v in self.cat_list:\n",
        "            X_train = X.loc[X[cat] == cat_v]\n",
        "            y_train = y.loc[X_train.index]\n",
        "            if model == 'mlr':\n",
        "                setattr(My_Model,f'mlr_{cat_v}_model' , LinearRegression().fit(X_train, y_train) )\n",
        "            elif model == 'tree':\n",
        "                setattr(My_Model,f'tree_{cat_v}_model' \n",
        "                       ,DecisionTreeRegressor( \n",
        "                              min_samples_split = min_samples_split ,\n",
        "                              splitter = splitter ,\n",
        "                              min_samples_leaf = min_samples_leaf, \n",
        "                              ccp_alpha= ccp_alpha, \n",
        "                              max_leaf_nodes= max_leaf_nodes,\n",
        "                              max_depth= max_depth  ).fit(X_train, y_train) )\n",
        "            else:\n",
        "                 setattr( My_Model,f'knn_{cat_v}_model' , KNeighborsRegressor(n_neighbors= n_neighbors).fit(X_train, y_train) )\n",
        "\n",
        "#####predictions #####\n",
        "    def predict(self ,X ,model = 'mlr'):\n",
        "         y_pred = pd.Series(name='y_pred' ,dtype = 'float64')\n",
        "         for cat_v in self.cat_list:\n",
        "             X_predict = X.loc[X[self.cat] == cat_v]\n",
        "             cat_v_pred =  eval(f'self.{model}_{cat_v}_model.predict(X_predict)') \n",
        "             cat_v_pred = pd.Series(cat_v_pred, X_predict.index)\n",
        "             y_pred = pd.concat( [y_pred , cat_v_pred] ,axis = 0 ,names=['y_pred'] )\n",
        "         return y_pred    "
      ],
      "metadata": {
        "id": "6gyPuLcIfd9r"
      },
      "execution_count": 318,
      "outputs": []
    },
    {
      "cell_type": "markdown",
      "source": [
        "#Linear regression using complexed model"
      ],
      "metadata": {
        "id": "Gw6Bm1O1uZfY"
      }
    },
    {
      "cell_type": "markdown",
      "source": [
        "Fit&Predict"
      ],
      "metadata": {
        "id": "W_WBD5jYukx3"
      }
    },
    {
      "cell_type": "code",
      "source": [
        "lr_model = My_Model()"
      ],
      "metadata": {
        "id": "AGDTRilVgVK8"
      },
      "execution_count": 319,
      "outputs": []
    },
    {
      "cell_type": "code",
      "source": [
        "lr_model.fit(X_train , y_train ,model = 'mlr', cat = 'is_resort')"
      ],
      "metadata": {
        "id": "ddjdK8nwmY8Y"
      },
      "execution_count": 320,
      "outputs": []
    },
    {
      "cell_type": "code",
      "source": [
        "y_train_pred = lr_model.predict(X_train ,model = 'mlr')"
      ],
      "metadata": {
        "id": "f0diyRcah0WN"
      },
      "execution_count": 321,
      "outputs": []
    },
    {
      "cell_type": "code",
      "source": [
        "y_train_pred = pd.Series(y_train_pred)\n",
        "y_train_pred"
      ],
      "metadata": {
        "colab": {
          "base_uri": "https://localhost:8080/"
        },
        "id": "yRT5P1D_tpg5",
        "outputId": "6c754b7e-9654-4d20-ae1b-5564fea7e28d"
      },
      "execution_count": 322,
      "outputs": [
        {
          "output_type": "execute_result",
          "data": {
            "text/plain": [
              "49463      85.857139\n",
              "74471      69.098350\n",
              "85815      96.948476\n",
              "100811    122.143772\n",
              "83478      58.894085\n",
              "             ...    \n",
              "39027     204.742672\n",
              "34106      22.997422\n",
              "4544      138.328412\n",
              "15970     199.038660\n",
              "37342     133.814718\n",
              "Length: 81865, dtype: float64"
            ]
          },
          "metadata": {},
          "execution_count": 322
        }
      ]
    },
    {
      "cell_type": "code",
      "source": [
        "#sort y index\n",
        "y_train_pred.sort_index(inplace=True)\n",
        "y_train.sort_index(inplace = True)"
      ],
      "metadata": {
        "id": "zHj-zSClwldM"
      },
      "execution_count": 323,
      "outputs": []
    },
    {
      "cell_type": "code",
      "source": [
        "ax = sns.scatterplot(x=y_train, y=y_train_pred )\n",
        "ax.plot(y_train, y_train, 'r')"
      ],
      "metadata": {
        "colab": {
          "base_uri": "https://localhost:8080/",
          "height": 296
        },
        "id": "IGgDB58RnDSb",
        "outputId": "46493542-7cea-483c-c837-3be3dd8e522d"
      },
      "execution_count": 324,
      "outputs": [
        {
          "output_type": "execute_result",
          "data": {
            "text/plain": [
              "[<matplotlib.lines.Line2D at 0x7f9b963ae6d0>]"
            ]
          },
          "metadata": {},
          "execution_count": 324
        },
        {
          "output_type": "display_data",
          "data": {
            "image/png": "[encoded data removed]",
            "text/plain": [
              "<Figure size 432x288 with 1 Axes>"
            ]
          },
          "metadata": {
            "needs_background": "light"
          }
        }
      ]
    },
    {
      "cell_type": "code",
      "source": [
        "mse_train = mse(y_train, y_train_pred , squared= False)\n",
        "print(mse_train)"
      ],
      "metadata": {
        "colab": {
          "base_uri": "https://localhost:8080/"
        },
        "id": "GO_wO1b6nIVc",
        "outputId": "b5c70c36-b662-4884-e54a-fff29e48e4d4"
      },
      "execution_count": 325,
      "outputs": [
        {
          "output_type": "stream",
          "name": "stdout",
          "text": [
            "24.351962312621563\n"
          ]
        }
      ]
    },
    {
      "cell_type": "code",
      "source": [
        "y_test_pred = lr_model.predict(X_test, model = 'mlr')"
      ],
      "metadata": {
        "id": "Mcd08HiDyUEM"
      },
      "execution_count": 326,
      "outputs": []
    },
    {
      "cell_type": "code",
      "source": [
        "y_test_pred.sort_index(inplace=True)\n",
        "y_test.sort_index(inplace=True)"
      ],
      "metadata": {
        "id": "uVtWeuG3-qiu"
      },
      "execution_count": 327,
      "outputs": []
    },
    {
      "cell_type": "code",
      "source": [
        "ax = sns.scatterplot(x=y_test, y=y_test_pred, color = 'orange')\n",
        "ax.plot(y_test, y_test, 'r')"
      ],
      "metadata": {
        "id": "Wu5mrhgOyfND",
        "colab": {
          "base_uri": "https://localhost:8080/",
          "height": 296
        },
        "outputId": "6598ad60-9509-43aa-b6db-e4b22eb72bf9"
      },
      "execution_count": 328,
      "outputs": [
        {
          "output_type": "execute_result",
          "data": {
            "text/plain": [
              "[<matplotlib.lines.Line2D at 0x7f9b978cee90>]"
            ]
          },
          "metadata": {},
          "execution_count": 328
        },
        {
          "output_type": "display_data",
          "data": {
            "image/png": "[encoded data removed]",
            "text/plain": [
              "<Figure size 432x288 with 1 Axes>"
            ]
          },
          "metadata": {
            "needs_background": "light"
          }
        }
      ]
    },
    {
      "cell_type": "code",
      "source": [
        "mse_test = mse(y_test , y_test_pred , squared= False)\n",
        "print(mse_test)\n",
        "#mse_difference\n",
        "mse_train - mse_test"
      ],
      "metadata": {
        "id": "0rKOofc-yfup",
        "colab": {
          "base_uri": "https://localhost:8080/"
        },
        "outputId": "30ddeb81-f334-4df8-c02b-7e69116367df"
      },
      "execution_count": 329,
      "outputs": [
        {
          "output_type": "stream",
          "name": "stdout",
          "text": [
            "24.662866977659686\n"
          ]
        },
        {
          "output_type": "execute_result",
          "data": {
            "text/plain": [
              "-0.3109046650381231"
            ]
          },
          "metadata": {},
          "execution_count": 329
        }
      ]
    },
    {
      "cell_type": "markdown",
      "source": [
        "##Decision Tree"
      ],
      "metadata": {
        "id": "9wvpCe58Kg7N"
      }
    },
    {
      "cell_type": "code",
      "source": [
        "My_Model_tree = My_Model()\n",
        "My_Model_tree.fit(X_train , y_train ,model ='tree' ,cat ='is_resort'\n",
        "                              ,splitter = 'best'\n",
        "                              ,min_samples_split = 40\n",
        "                              ,min_samples_leaf=10\n",
        "                              ,ccp_alpha=0.01 \n",
        "                              ,max_leaf_nodes=1000\n",
        "                              ,max_depth=100)\n",
        "\n",
        "\n"
      ],
      "metadata": {
        "id": "r3pZc4q0KtRI"
      },
      "execution_count": 331,
      "outputs": []
    },
    {
      "cell_type": "code",
      "source": [
        "y_train_pred = My_Model_tree.predict(X_train ,model ='tree' )                             \n",
        "#sort y index\n",
        "y_train_pred.sort_index(inplace=True)\n",
        "y_train.sort_index(inplace = True)\n",
        "#plot\n",
        "ax = sns.scatterplot(x=y_train, y=y_train_pred)\n",
        "ax.plot(y_train, y_train, 'r')"
      ],
      "metadata": {
        "id": "-MHWMgFdMoKw",
        "colab": {
          "base_uri": "https://localhost:8080/",
          "height": 296
        },
        "outputId": "e777ab0c-e697-4526-88b8-dba1dcddd0ae"
      },
      "execution_count": 332,
      "outputs": [
        {
          "output_type": "execute_result",
          "data": {
            "text/plain": [
              "[<matplotlib.lines.Line2D at 0x7f9b977c6150>]"
            ]
          },
          "metadata": {},
          "execution_count": 332
        },
        {
          "output_type": "display_data",
          "data": {
            "image/png": "[encoded data removed]",
            "text/plain": [
              "<Figure size 432x288 with 1 Axes>"
            ]
          },
          "metadata": {
            "needs_background": "light"
          }
        }
      ]
    },
    {
      "cell_type": "code",
      "source": [
        "mse_train = mse(y_train, y_train_pred , squared= False)\n",
        "print(mse_train)"
      ],
      "metadata": {
        "colab": {
          "base_uri": "https://localhost:8080/"
        },
        "id": "4kCrVdfoM83u",
        "outputId": "0b34f291-045f-43c0-809d-7d8449fa0628"
      },
      "execution_count": 333,
      "outputs": [
        {
          "output_type": "stream",
          "name": "stdout",
          "text": [
            "17.74145965421623\n"
          ]
        }
      ]
    },
    {
      "cell_type": "markdown",
      "source": [
        "Validate"
      ],
      "metadata": {
        "id": "N6NgP83sMmZe"
      }
    },
    {
      "cell_type": "code",
      "source": [
        "y_test_pred = My_Model_tree.predict(X_test , model ='tree')\n",
        "#sort y index\n",
        "y_test_pred.sort_index(inplace=True)\n",
        "y_test.sort_index(inplace = True)\n",
        "#plot\n",
        "ax = sns.scatterplot(x=y_test, y=y_test_pred)\n",
        "ax.plot(y_test, y_test, 'r')"
      ],
      "metadata": {
        "colab": {
          "base_uri": "https://localhost:8080/",
          "height": 296
        },
        "id": "NZ7F77zuMie2",
        "outputId": "ffbf4e34-f1b3-4b7f-bf6c-aa1115d8e8d9"
      },
      "execution_count": 334,
      "outputs": [
        {
          "output_type": "execute_result",
          "data": {
            "text/plain": [
              "[<matplotlib.lines.Line2D at 0x7f9b97725f10>]"
            ]
          },
          "metadata": {},
          "execution_count": 334
        },
        {
          "output_type": "display_data",
          "data": {
            "image/png": "[encoded data removed]",
            "text/plain": [
              "<Figure size 432x288 with 1 Axes>"
            ]
          },
          "metadata": {
            "needs_background": "light"
          }
        }
      ]
    },
    {
      "cell_type": "code",
      "source": [
        "mse_test = mse(y_test , y_test_pred , squared= False)\n",
        "print(mse_test)\n",
        "#mse_difference\n",
        "mse_train - mse_test"
      ],
      "metadata": {
        "colab": {
          "base_uri": "https://localhost:8080/"
        },
        "id": "AhNHShayOteh",
        "outputId": "f957410d-5eda-4632-b9ad-38a74245106f"
      },
      "execution_count": 335,
      "outputs": [
        {
          "output_type": "stream",
          "name": "stdout",
          "text": [
            "19.931926912195742\n"
          ]
        },
        {
          "output_type": "execute_result",
          "data": {
            "text/plain": [
              "-2.1904672579795132"
            ]
          },
          "metadata": {},
          "execution_count": 335
        }
      ]
    },
    {
      "cell_type": "markdown",
      "source": [
        "## K-Nearest Neighbors"
      ],
      "metadata": {
        "id": "0fQLLIgqejPY"
      }
    },
    {
      "cell_type": "code",
      "source": [
        "knn_model = My_Model()\n",
        "knn_model.fit(X_train, y_train , model = 'knn' , cat = 'is_resort' , n_neighbors = 17)\n",
        "#old way\n",
        "#knn_model = KNeighborsRegressor(n_neighbors=5).fit(X_train, y_train)"
      ],
      "metadata": {
        "id": "NvoTCLR0etQW"
      },
      "execution_count": 345,
      "outputs": []
    },
    {
      "cell_type": "code",
      "source": [
        "y_train_pred = knn_model.predict(X_train , model = 'knn')"
      ],
      "metadata": {
        "id": "3Q15eqb4e18U"
      },
      "execution_count": 346,
      "outputs": []
    },
    {
      "cell_type": "code",
      "source": [
        "#sort y\n",
        "y_train_pred.sort_index(inplace=True)\n",
        "y_train.sort_index(inplace = True)\n",
        "#plot\n",
        "ax = sns.scatterplot(x=y_train, y=y_train_pred)\n",
        "ax.plot(y_train, y_train, 'r')"
      ],
      "metadata": {
        "colab": {
          "base_uri": "https://localhost:8080/",
          "height": 296
        },
        "outputId": "1f26dcd8-0b6a-4308-b832-7c0727b1616d",
        "id": "K1tW1uQme18V"
      },
      "execution_count": 347,
      "outputs": [
        {
          "output_type": "execute_result",
          "data": {
            "text/plain": [
              "[<matplotlib.lines.Line2D at 0x7f9b971a9350>]"
            ]
          },
          "metadata": {},
          "execution_count": 347
        },
        {
          "output_type": "display_data",
          "data": {
            "image/png": "[encoded data removed]",
            "text/plain": [
              "<Figure size 432x288 with 1 Axes>"
            ]
          },
          "metadata": {
            "needs_background": "light"
          }
        }
      ]
    },
    {
      "cell_type": "code",
      "source": [
        "mse_train = mse(y_train, y_train_pred , squared= False)\n",
        "print(mse_train)"
      ],
      "metadata": {
        "colab": {
          "base_uri": "https://localhost:8080/"
        },
        "outputId": "2b0e3d53-9cb6-466a-c285-7348091ca132",
        "id": "QNnQi3p6e18V"
      },
      "execution_count": 348,
      "outputs": [
        {
          "output_type": "stream",
          "name": "stdout",
          "text": [
            "26.632314012319988\n"
          ]
        }
      ]
    },
    {
      "cell_type": "markdown",
      "source": [
        "validate"
      ],
      "metadata": {
        "id": "JxnV-Qwae18X"
      }
    },
    {
      "cell_type": "code",
      "source": [
        "#test pred\n",
        "y_test_pred = knn_model.predict(X_test ,model = 'knn')\n",
        "#sort y\n",
        "y_test_pred.sort_index(inplace=True)\n",
        "y_test.sort_index(inplace = True)\n",
        "#plot\n",
        "ax = sns.scatterplot(x=y_test, y=y_test_pred)\n",
        "ax.plot(y_test, y_test, 'r')"
      ],
      "metadata": {
        "colab": {
          "base_uri": "https://localhost:8080/",
          "height": 296
        },
        "outputId": "aaf2c31f-8469-4255-af99-0c68755ae1fd",
        "id": "v8TAPGvme18X"
      },
      "execution_count": 349,
      "outputs": [
        {
          "output_type": "execute_result",
          "data": {
            "text/plain": [
              "[<matplotlib.lines.Line2D at 0x7f9b95db4790>]"
            ]
          },
          "metadata": {},
          "execution_count": 349
        },
        {
          "output_type": "display_data",
          "data": {
            "image/png": "[encoded data removed]",
            "text/plain": [
              "<Figure size 432x288 with 1 Axes>"
            ]
          },
          "metadata": {
            "needs_background": "light"
          }
        }
      ]
    },
    {
      "cell_type": "code",
      "source": [
        "mse_test = mse(y_test , y_test_pred , squared= False)\n",
        "print(mse_test)\n",
        "#mse_difference\n",
        "mse_train - mse_test"
      ],
      "metadata": {
        "colab": {
          "base_uri": "https://localhost:8080/"
        },
        "outputId": "159a3e68-1cb6-4fce-952e-36c3e4513549",
        "id": "hA3JwbRMe18X"
      },
      "execution_count": 350,
      "outputs": [
        {
          "output_type": "stream",
          "name": "stdout",
          "text": [
            "28.597594418398458\n"
          ]
        },
        {
          "output_type": "execute_result",
          "data": {
            "text/plain": [
              "-1.9652804060784703"
            ]
          },
          "metadata": {},
          "execution_count": 350
        }
      ]
    },
    {
      "cell_type": "code",
      "source": [
        ""
      ],
      "metadata": {
        "id": "kizRKj00vm6e"
      },
      "execution_count": 350,
      "outputs": []
    }
  ]
}